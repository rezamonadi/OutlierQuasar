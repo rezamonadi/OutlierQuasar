{
 "cells": [
  {
   "cell_type": "code",
   "execution_count": 2,
   "metadata": {},
   "outputs": [
    {
     "name": "stdout",
     "output_type": "stream",
     "text": [
      "144582\n",
      "0.004153252579271793 7.011244773864746 1.1326341032981873\n"
     ]
    }
   ],
   "source": [
    "from astropy.table import Table, Column\n",
    "import numpy as np\n",
    "from sklearn.preprocessing import MinMaxScaler, StandardScaler\n",
    "import matplotlib.pyplot as plt\n",
    "import pandas as pd\n",
    "from seaborn import pairplot\n",
    "from sklearn.cluster import DBSCAN\n",
    "from numpy.linalg import norm\n",
    "from scipy.spatial import distance\n",
    "# Assuming you have located the table fits file in the same directory \n",
    "tab = Table.read('data/DR16Q_v4.fits')\n",
    "tab.colnames\n",
    "psfflux = np.array(tab['PSFFLUX'])\n",
    "Fu = psfflux[:,0]\n",
    "Fg = psfflux[:,1]\n",
    "Fr = psfflux[:,2]\n",
    "Fi = psfflux[:,3]\n",
    "Fz = psfflux[:,4]\n",
    "\n",
    "#  SDSS flux inverse variance\n",
    "psfflux_ivar = tab['PSFFLUX_IVAR']\n",
    "psfflux_SN = psfflux*psfflux_ivar\n",
    "\n",
    "\n",
    "# SDSS FLux Signal tp Noise -> Flux*(1/Flux_variance)\n",
    "Fu_SN = psfflux_SN[:,0]\n",
    "Fu_SN = psfflux_SN[:,0]\n",
    "Fg_SN = psfflux_SN[:,1]\n",
    "Fr_SN = psfflux_SN[:,2]\n",
    "Fi_SN = psfflux_SN[:,3]\n",
    "Fz_SN = psfflux_SN[:,4]\n",
    "\n",
    "# WISE fluxes\n",
    "W1_Flux = tab['W1_FLUX']\n",
    "W2_Flux = tab['W2_FLUX']\n",
    "\n",
    "# Wise Flux inverse variance \n",
    "W1_Flux_ivar = tab['W1_FLUX_IVAR']\n",
    "W2_Flux_ivar = tab['W2_FLUX_IVAR']\n",
    "\n",
    "W1_SN, W2_SN = W1_Flux*W1_Flux_ivar, W2_Flux*W1_Flux_ivar\n",
    "\n",
    "#  Other features \n",
    "redshift = tab['Z']\n",
    "zwarning = tab['ZWARNING']\n",
    "e=2\n",
    "mask = (Fu_SN>e) & (Fg_SN>e) & (Fr_SN>e) & (Fi_SN>e) &(Fz_SN>e) & (redshift>0) & (zwarning==0)   & (W1_SN>e) & (W2_SN>e) \n",
    "print(sum(mask))\n",
    "print(min(redshift[mask]), max(redshift[mask]), np.median(redshift[mask]))\n",
    "#  SDSS-SDSS flux ratios\n",
    "Fug = np.log(Fu[mask]/Fg[mask])\n",
    "Fur = np.log(Fu[mask]/Fr[mask])\n",
    "Fui = np.log(Fu[mask]/Fi[mask])\n",
    "Fuz = np.log(Fu[mask]/Fz[mask])\n",
    "Fgr = np.log(Fg[mask]/Fr[mask])\n",
    "Fgi = np.log(Fg[mask]/Fi[mask])\n",
    "Fgz = np.log(Fg[mask]/Fz[mask])\n",
    "Fri = np.log(Fr[mask]/Fi[mask])\n",
    "Frz = np.log(Fr[mask]/Fz[mask])\n",
    "Fiz = np.log(Fi[mask]/Fz[mask])\n",
    "\n",
    "# WISE-WISE flux ratios\n",
    "FW1W2 = np.log(W1_Flux[mask]/W2_Flux[mask])\n",
    "\n",
    "# SDSS-WISE flux ratios\n",
    "FuW1 = np.log(Fu[mask]/W1_Flux[mask])\n",
    "FuW2 = np.log(Fu[mask]/W2_Flux[mask])\n",
    "FgW1 = np.log(Fg[mask]/W1_Flux[mask])\n",
    "FgW2 = np.log(Fg[mask]/W2_Flux[mask])\n",
    "FrW1 = np.log(Fr[mask]/W1_Flux[mask])\n",
    "FrW2 = np.log(Fr[mask]/W2_Flux[mask])\n",
    "FiW1 = np.log(Fi[mask]/W1_Flux[mask])\n",
    "FiW2 = np.log(Fi[mask]/W2_Flux[mask])\n",
    "FzW1 = np.log(Fz[mask]/W1_Flux[mask])\n",
    "FzW2 = np.log(Fz[mask]/W2_Flux[mask])\n",
    "data = np.array(list(zip(Fui,Fuz,FuW1,FuW2,Fgz,FgW1,FgW2,FrW1,FrW2,FiW2)))\n",
    "data_scaled = StandardScaler().fit_transform(data)\n",
    "df = pd.DataFrame(data=data_scaled, columns=['Fui', 'Fuz', 'FuW1', 'FuW2', 'Fgz', 'FgW1', 'FgW2', 'FrW1', 'FrW2', 'FiW2'])\n"
   ]
  },
  {
   "cell_type": "code",
   "execution_count": null,
   "metadata": {},
   "outputs": [],
   "source": [
    "from joblib import Parallel, delayed\n",
    "import multiprocessing\n",
    "def db_par(df, eps, minPts):\n",
    "    \n",
    "    db=DBSCAN(eps=eps,min_samples=minPts)\n",
    "    model=db.fit(df)\n",
    "    label=model.labels_\n",
    "    return label\n",
    "num_cores = multiprocessing.cpu_count()\n",
    "all_labels = Parallel(n_jobs=7)(delayed(db_par)(df,e, 11) for e in np.linspace(0.6,1.2,7))"
   ]
  },
  {
   "cell_type": "code",
   "execution_count": 14,
   "metadata": {},
   "outputs": [],
   "source": [
    "import numpy as np\n",
    "np.savetxt('all_labels.dat', all_labels, fmt='%d')"
   ]
  }
 ],
 "metadata": {
  "kernelspec": {
   "display_name": "Python 3",
   "language": "python",
   "name": "python3"
  },
  "language_info": {
   "codemirror_mode": {
    "name": "ipython",
    "version": 3
   },
   "file_extension": ".py",
   "mimetype": "text/x-python",
   "name": "python",
   "nbconvert_exporter": "python",
   "pygments_lexer": "ipython3",
   "version": "3.8.3"
  }
 },
 "nbformat": 4,
 "nbformat_minor": 4
}
