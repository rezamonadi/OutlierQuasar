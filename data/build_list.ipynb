{
 "cells": [
  {
   "cell_type": "code",
   "execution_count": 12,
   "metadata": {},
   "outputs": [],
   "source": [
    "from astropy.table import Table, Column\n",
    "import numpy as np\n",
    "from sklearn.preprocessing import MinMaxScaler, StandardScaler\n",
    "import matplotlib.pyplot as plt\n",
    "import pandas as pd\n",
    "from seaborn import pairplot, kdeplot\n",
    "# Assuming you have located the table fits file in the same directory \n",
    "tab = Table.read('reduced_dr16q.fits')\n",
    "\n",
    "# parmeters needed for opening spectra file\n",
    "plate = tab['PLATE']\n",
    "fiber = tab['FIBERID']\n",
    "mjd   = tab['MJD']\n",
    "# splitting download list to several files\n",
    "nqsos= len(tab)\n",
    "for j in range(0,11):\n",
    "    fid = open('spectra/speclist-%i.txt'%j, 'w+')\n",
    "    if(j<10):\n",
    "        for i in range(17000*j,17000*(j+1)):\n",
    "            fid.write('v5_13_0/spectra/lite/./%i/spec-%i-%i-%04i.fits\\n' %(plate[i], plate[i], mjd[i], fiber[i]))\n",
    "    else:\n",
    "        for i in range(17000*10, nqsos):    \n",
    "            fid.write('v5_13_0/spectra/lite/./%i/spec-%i-%i-%04i.fits\\n' %(plate[i], plate[i], mjd[i], fiber[i]))\n",
    "    fid.close()"
   ]
  }
 ],
 "metadata": {
  "kernelspec": {
   "display_name": "Python 3",
   "language": "python",
   "name": "python3"
  },
  "language_info": {
   "codemirror_mode": {
    "name": "ipython",
    "version": 3
   },
   "file_extension": ".py",
   "mimetype": "text/x-python",
   "name": "python",
   "nbconvert_exporter": "python",
   "pygments_lexer": "ipython3",
   "version": "3.8.3"
  }
 },
 "nbformat": 4,
 "nbformat_minor": 4
}