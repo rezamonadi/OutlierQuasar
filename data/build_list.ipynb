{
 "cells": [
  {
   "cell_type": "code",
   "execution_count": 1,
   "metadata": {},
   "outputs": [
    {
     "output_type": "execute_result",
     "data": {
      "text/plain": [
       "<TableColumns names=('SDSS_NAME','RA','DEC','PLATE','MJD','FIBERID','AUTOCLASS_PQN','AUTOCLASS_DR14Q','IS_QSO_QN','Z_QN','RANDOM_SELECT','Z_10K','Z_CONF_10K','PIPE_CORR_10K','IS_QSO_10K','THING_ID','Z_VI','Z_CONF','CLASS_PERSON','Z_DR12Q','IS_QSO_DR12Q','Z_DR7Q_SCH','IS_QSO_DR7Q','Z_DR6Q_HW','Z_DR7Q_HW','IS_QSO_FINAL','Z','SOURCE_Z','Z_PIPE','ZWARNING','OBJID','Z_PCA','ZWARN_PCA','DELTACHI2_PCA','Z_HALPHA','ZWARN_HALPHA','DELTACHI2_HALPHA','Z_HBETA','ZWARN_HBETA','DELTACHI2_HBETA','Z_MGII','ZWARN_MGII','DELTACHI2_MGII','Z_CIII','ZWARN_CIII','DELTACHI2_CIII','Z_CIV','ZWARN_CIV','DELTACHI2_CIV','Z_LYA','ZWARN_LYA','DELTACHI2_LYA','Z_LYAWG','Z_DLA','NHI_DLA','CONF_DLA','BAL_PROB','BI_CIV','ERR_BI_CIV','AI_CIV','ERR_AI_CIV','BI_SIIV','ERR_BI_SIIV','AI_SIIV','ERR_AI_SIIV','BOSS_TARGET1','EBOSS_TARGET0','EBOSS_TARGET1','EBOSS_TARGET2','ANCILLARY_TARGET1','ANCILLARY_TARGET2','NSPEC_SDSS','NSPEC_BOSS','NSPEC','PLATE_DUPLICATE','MJD_DUPLICATE','FIBERID_DUPLICATE','SPECTRO_DUPLICATE','SKYVERSION','RUN_NUMBER','RERUN_NUMBER','CAMCOL_NUMBER','FIELD_NUMBER','ID_NUMBER','LAMBDA_EFF','ZOFFSET','XFOCAL','YFOCAL','CHUNK','TILE','PLATESN2','PSFFLUX','PSFFLUX_IVAR','PSFMAG','PSFMAGERR','EXTINCTION','M_I','SN_MEDIAN_ALL','GALEX_MATCHED','FUV','FUV_IVAR','NUV','NUV_IVAR','UKIDSS_MATCHED','YFLUX','YFLUX_ERR','JFLUX','JFLUX_ERR','HFLUX','HFLUX_ERR','KFLUX','KFLUX_ERR','W1_FLUX','W1_FLUX_IVAR','W1_MAG','W1_MAG_ERR','W1_CHI2','W1_FLUX_SNR','W1_SRC_FRAC','W1_EXT_FLUX','W1_EXT_FRAC','W1_NPIX','W2_FLUX','W2_FLUX_IVAR','W2_MAG','W2_MAG_ERR','W2_CHI2','W2_FLUX_SNR','W2_SRC_FRAC','W2_EXT_FLUX','W2_EXT_FRAC','W2_NPIX','FIRST_MATCHED','FIRST_FLUX','FIRST_SNR','SDSS2FIRST_SEP','JMAG','JMAG_ERR','JSNR','JRDFLAG','HMAG','HMAG_ERR','HSNR','HRDFLAG','KMAG','KMAG_ERR','KSNR','KRDFLAG','SDSS2MASS_SEP','2RXS_ID','2RXS_RA','2RXS_DEC','2RXS_SRC_FLUX','2RXS_SRC_FLUX_ERR','SDSS2ROSAT_SEP','XMM_SRC_ID','XMM_RA','XMM_DEC','XMM_SOFT_FLUX','XMM_SOFT_FLUX_ERR','XMM_HARD_FLUX','XMM_HARD_FLUX_ERR','XMM_TOTAL_FLUX','XMM_TOTAL_FLUX_ERR','XMM_TOTAL_LUM','SDSS2XMM_SEP','GAIA_MATCHED','GAIA_DESIGNATION','GAIA_RA','GAIA_DEC','GAIA_PARALLAX','GAIA_PARALLAX_ERR','GAIA_PM_RA','GAIA_PM_RA_ERR','GAIA_PM_DEC','GAIA_PM_DEC_ERR','GAIA_G_MAG','GAIA_G_FLUX_SNR','GAIA_BP_MAG','GAIA_BP_FLUX_SNR','GAIA_RP_MAG','GAIA_RP_FLUX_SNR','SDSS2GAIA_SEP')>"
      ]
     },
     "metadata": {},
     "execution_count": 1
    }
   ],
   "source": [
    "from astropy.table import Table, Column\n",
    "import numpy as np\n",
    "from sklearn.preprocessing import MinMaxScaler, StandardScaler\n",
    "import matplotlib.pyplot as plt\n",
    "import pandas as pd\n",
    "from seaborn import pairplot, kdeplot\n",
    "# Assuming you have located the table fits file in the same directory \n",
    "tab = Table.read('DR16Q_v4.fits')\n",
    "tab.columns"
   ]
  },
  {
   "cell_type": "code",
   "execution_count": 2,
   "metadata": {},
   "outputs": [],
   "source": [
    "# loading required features \n",
    "\n",
    "#  SDSS fluxes \n",
    "psfflux = np.array(tab['PSFFLUX'])\n",
    "Fu = psfflux[:,0]\n",
    "Fg = psfflux[:,1]\n",
    "Fr = psfflux[:,2]\n",
    "Fi = psfflux[:,3]\n",
    "Fz = psfflux[:,4]\n",
    "\n",
    "#  SDSS flux inverse variance\n",
    "psfflux_ivar = tab['PSFFLUX_IVAR']\n",
    "psfflux_SN = psfflux*psfflux_ivar\n",
    "\n",
    "\n",
    "# SDSS FLux Signal to Noise -> Flux*(1/Flux_variance)\n",
    "Fu_SN = psfflux_SN[:,0]\n",
    "Fu_SN = psfflux_SN[:,0]\n",
    "Fg_SN = psfflux_SN[:,1]\n",
    "Fr_SN = psfflux_SN[:,2]\n",
    "Fi_SN = psfflux_SN[:,3]\n",
    "Fz_SN = psfflux_SN[:,4]\n",
    "\n",
    "# WISE fluxes\n",
    "W1_Flux = tab['W1_FLUX']\n",
    "W2_Flux = tab['W2_FLUX']\n",
    "\n",
    "# Wise Flux inverse variance \n",
    "W1_Flux_ivar = tab['W1_FLUX_IVAR']\n",
    "W2_Flux_ivar = tab['W2_FLUX_IVAR']\n",
    "\n",
    "# WISE FLux Signal to Noise -> Flux*(1/Flux_variance)\n",
    "\n",
    "W1_SN, W2_SN = W1_Flux*W1_Flux_ivar, W2_Flux*W1_Flux_ivar\n",
    "\n",
    "#  Other features \n",
    "redshift = tab['Z']\n",
    "zwarning = tab['ZWARNING']\n"
   ]
  },
  {
   "cell_type": "code",
   "execution_count": 3,
   "metadata": {},
   "outputs": [],
   "source": [
    "# Removing Low Signal to Noise ratio fluxes \n",
    "e=1 # S/N=1 is the thresold \n",
    "mask = (Fu_SN>e) & (Fg_SN>e) & (Fr_SN>e) & (Fi_SN>e) &(Fz_SN>e) & (redshift>0) & (zwarning==0)    & (W1_SN>2) & (W2_SN>2) \n"
   ]
  },
  {
   "cell_type": "code",
   "execution_count": 22,
   "metadata": {},
   "outputs": [],
   "source": [
    "plate = tab['PLATE']\n",
    "fiber = tab['FIBERID']\n",
    "mjd   = tab['MJD']\n",
    "\n",
    "nqsos= len(tab)\n",
    "for j in range(0,8):\n",
    "    fid = open('spectra/speclist-%i.txt'%j, 'w+')\n",
    "    if(j<7):\n",
    "        for i in range(100000*j,100000*(j+1)):\n",
    "            if(mask[i]==1):\n",
    "                fid.write('v5_13_0/spectra/lite/./%i/spec-%i-%i-%04i.fits\\n' %(plate[i], plate[i], mjd[i], fiber[i]))\n",
    "    else:\n",
    "        for i in range(700000, nqsos):    \n",
    "            if(mask[i]==1):\n",
    "                fid.write('v5_13_0/spectra/lite/./%i/spec-%i-%i-%04i.fits\\n' %(plate[i], plate[i], mjd[i], fiber[i]))\n",
    "    fid.close()\n"
   ]
  }
 ],
 "metadata": {
  "kernelspec": {
   "display_name": "Python 3",
   "language": "python",
   "name": "python3"
  },
  "language_info": {
   "codemirror_mode": {
    "name": "ipython",
    "version": 3
   },
   "file_extension": ".py",
   "mimetype": "text/x-python",
   "name": "python",
   "nbconvert_exporter": "python",
   "pygments_lexer": "ipython3",
   "version": "3.8.3-final"
  }
 },
 "nbformat": 4,
 "nbformat_minor": 4
}