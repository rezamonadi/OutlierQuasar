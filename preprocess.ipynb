{
 "cells": [
  {
   "cell_type": "code",
   "execution_count": 1,
   "metadata": {},
   "outputs": [],
   "source": [
    "from astropy.table import Table, Column\n",
    "import numpy as np\n",
    "from sklearn.preprocessing import MinMaxScaler, StandardScaler\n",
    "import matplotlib.pyplot as plt\n",
    "import pandas as pd\n",
    "from seaborn import pairplot, kdeplot\n",
    "# Assuming you have located the table fits file in the same directory \n",
    "tab = Table.read('DR16Q_v4.fits')\n"
   ]
  },
  {
   "cell_type": "code",
   "execution_count": 3,
   "metadata": {},
   "outputs": [],
   "source": [
    "# loading required features \n",
    "\n",
    "#  SDSS fluxes \n",
    "psfflux = np.array(tab['PSFFLUX'])\n",
    "Fu = psfflux[:,0]\n",
    "Fg = psfflux[:,1]\n",
    "Fr = psfflux[:,2]\n",
    "Fi = psfflux[:,3]\n",
    "Fz = psfflux[:,4]\n",
    "\n",
    "#  SDSS flux inverse variance\n",
    "psfflux_ivar = tab['PSFFLUX_IVAR']\n",
    "psfflux_SN = psfflux*psfflux_ivar\n",
    "\n",
    "\n",
    "# SDSS FLux Signal to Noise -> Flux*(1/Flux_variance)\n",
    "Fu_SN = psfflux_SN[:,0]\n",
    "Fu_SN = psfflux_SN[:,0]\n",
    "Fg_SN = psfflux_SN[:,1]\n",
    "Fr_SN = psfflux_SN[:,2]\n",
    "Fi_SN = psfflux_SN[:,3]\n",
    "Fz_SN = psfflux_SN[:,4]\n",
    "\n",
    "# WISE fluxes\n",
    "W1_Flux = tab['W1_FLUX']\n",
    "W2_Flux = tab['W2_FLUX']\n",
    "\n",
    "# Wise Flux inverse variance \n",
    "W1_Flux_ivar = tab['W1_FLUX_IVAR']\n",
    "W2_Flux_ivar = tab['W2_FLUX_IVAR']\n",
    "\n",
    "# WISE FLux Signal to Noise -> Flux*(1/Flux_variance)\n",
    "\n",
    "W1_SN, W2_SN = W1_Flux*W1_Flux_ivar, W2_Flux*W1_Flux_ivar\n",
    "\n",
    "#  Other features \n",
    "redshift = tab['Z']\n",
    "zwarning = tab['ZWARNING']\n"
   ]
  },
  {
   "cell_type": "code",
   "execution_count": 4,
   "metadata": {},
   "outputs": [],
   "source": [
    "# Removing Low Signal to Noise ratio fluxes \n",
    "e=1 # S/N=1 is the thresold \n",
    "mask = (Fu_SN>e) & (Fg_SN>e) & (Fr_SN>e) & (Fi_SN>e) &(Fz_SN>e) & (redshift>0) & (zwarning==0)    & (W1_SN>2) & (W2_SN>2) \n"
   ]
  },
  {
   "cell_type": "code",
   "execution_count": 7,
   "metadata": {},
   "outputs": [],
   "source": [
    "#  SDSS-SDSS flux ratios\n",
    "Fug = np.log(Fu[mask]/Fg[mask])\n",
    "Fur = np.log(Fu[mask]/Fr[mask])\n",
    "Fui = np.log(Fu[mask]/Fi[mask])\n",
    "Fuz = np.log(Fu[mask]/Fz[mask])\n",
    "Fgr = np.log(Fg[mask]/Fr[mask])\n",
    "Fgi = np.log(Fg[mask]/Fi[mask])\n",
    "Fgz = np.log(Fg[mask]/Fz[mask])\n",
    "Fri = np.log(Fr[mask]/Fi[mask])\n",
    "Frz = np.log(Fr[mask]/Fz[mask])\n",
    "Fiz = np.log(Fi[mask]/Fz[mask])\n",
    "\n",
    "# WISE-WISE flux ratios\n",
    "FW1W2 = np.log(W1_Flux[mask]/W2_Flux[mask])\n",
    "\n",
    "# SDSS-WISE flux ratios\n",
    "FuW1 = np.log(Fu[mask]/W1_Flux[mask])\n",
    "FuW2 = np.log(Fu[mask]/W2_Flux[mask])\n",
    "FgW1 = np.log(Fg[mask]/W1_Flux[mask])\n",
    "FgW2 = np.log(Fg[mask]/W2_Flux[mask])\n",
    "FrW1 = np.log(Fr[mask]/W1_Flux[mask])\n",
    "FrW2 = np.log(Fr[mask]/W2_Flux[mask])\n",
    "FiW1 = np.log(Fi[mask]/W1_Flux[mask])\n",
    "FiW2 = np.log(Fi[mask]/W2_Flux[mask])\n",
    "FzW1 = np.log(Fz[mask]/W1_Flux[mask])\n",
    "FzW2 = np.log(Fz[mask]/W2_Flux[mask])"
   ]
  },
  {
   "cell_type": "code",
   "execution_count": 8,
   "metadata": {},
   "outputs": [],
   "source": [
    "ID = tab['SDSS_NAME']\n",
    "ID = ID[mask]\n",
    "#If just select those colors with well separated filters we can choose fluxes 3 filter away \n",
    "data = np.array(list(zip(Fui, Fuz, FuW1, FuW2, Fgz, FgW1, FgW2, FrW1, FrW2, FiW2)))\n",
    "np.savetxt('data.dat',data)\n",
    "np.savetxt('names.txt', ID, fmt='%s')\n",
    "# this file can be used if you want to implement it in MATLAB"
   ]
  },
  {
   "cell_type": "code",
   "execution_count": 10,
   "metadata": {},
   "outputs": [],
   "source": [
    "scaler = StandardScaler()\n",
    "data_scaled = scaler.fit_transform(data)\n",
    "df =pd.DataFrame(data=data_scaled, columns=['Fui', 'Fuz', 'FuW1', 'FuW2', 'Fgz', 'FgW1', 'FgW2', 'FrW1', 'FrW2', 'FiW2'])"
   ]
  }
 ],
 "metadata": {
  "kernelspec": {
   "display_name": "Python 3",
   "language": "python",
   "name": "python3"
  },
  "language_info": {
   "codemirror_mode": {
    "name": "ipython",
    "version": 3
   },
   "file_extension": ".py",
   "mimetype": "text/x-python",
   "name": "python",
   "nbconvert_exporter": "python",
   "pygments_lexer": "ipython3",
   "version": "3.8.3"
  }
 },
 "nbformat": 4,
 "nbformat_minor": 4
}
