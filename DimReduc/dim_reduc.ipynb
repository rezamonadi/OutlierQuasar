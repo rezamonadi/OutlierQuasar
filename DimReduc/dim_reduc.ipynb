{
 "cells": [
  {
   "cell_type": "code",
   "execution_count": 2,
   "metadata": {},
   "outputs": [
    {
     "data": {
      "text/html": [
       "<div>\n",
       "<style scoped>\n",
       "    .dataframe tbody tr th:only-of-type {\n",
       "        vertical-align: middle;\n",
       "    }\n",
       "\n",
       "    .dataframe tbody tr th {\n",
       "        vertical-align: top;\n",
       "    }\n",
       "\n",
       "    .dataframe thead th {\n",
       "        text-align: right;\n",
       "    }\n",
       "</style>\n",
       "<table border=\"1\" class=\"dataframe\">\n",
       "  <thead>\n",
       "    <tr style=\"text-align: right;\">\n",
       "      <th></th>\n",
       "      <th>rz_sc</th>\n",
       "      <th>rW1_sc</th>\n",
       "      <th>iW1_sc</th>\n",
       "      <th>zW1_sc</th>\n",
       "      <th>rW2_sc</th>\n",
       "      <th>iW2_sc</th>\n",
       "      <th>zW2_sc</th>\n",
       "    </tr>\n",
       "  </thead>\n",
       "  <tbody>\n",
       "    <tr>\n",
       "      <th>0</th>\n",
       "      <td>0.850103</td>\n",
       "      <td>1.384180</td>\n",
       "      <td>1.281054</td>\n",
       "      <td>1.016707</td>\n",
       "      <td>0.939807</td>\n",
       "      <td>0.811365</td>\n",
       "      <td>0.569392</td>\n",
       "    </tr>\n",
       "    <tr>\n",
       "      <th>1</th>\n",
       "      <td>-0.100389</td>\n",
       "      <td>-0.387232</td>\n",
       "      <td>-0.532232</td>\n",
       "      <td>-0.352582</td>\n",
       "      <td>-0.057264</td>\n",
       "      <td>-0.173956</td>\n",
       "      <td>-0.012195</td>\n",
       "    </tr>\n",
       "    <tr>\n",
       "      <th>2</th>\n",
       "      <td>1.080232</td>\n",
       "      <td>-1.022292</td>\n",
       "      <td>-1.172277</td>\n",
       "      <td>-1.597921</td>\n",
       "      <td>1.536383</td>\n",
       "      <td>1.531301</td>\n",
       "      <td>1.074143</td>\n",
       "    </tr>\n",
       "    <tr>\n",
       "      <th>3</th>\n",
       "      <td>0.600392</td>\n",
       "      <td>1.519176</td>\n",
       "      <td>1.670424</td>\n",
       "      <td>1.280809</td>\n",
       "      <td>1.120673</td>\n",
       "      <td>1.232041</td>\n",
       "      <td>0.870347</td>\n",
       "    </tr>\n",
       "    <tr>\n",
       "      <th>4</th>\n",
       "      <td>-0.478962</td>\n",
       "      <td>-0.312374</td>\n",
       "      <td>-0.353140</td>\n",
       "      <td>-0.087066</td>\n",
       "      <td>0.232276</td>\n",
       "      <td>0.223557</td>\n",
       "      <td>0.459784</td>\n",
       "    </tr>\n",
       "  </tbody>\n",
       "</table>\n",
       "</div>"
      ],
      "text/plain": [
       "      rz_sc    rW1_sc    iW1_sc    zW1_sc    rW2_sc    iW2_sc    zW2_sc\n",
       "0  0.850103  1.384180  1.281054  1.016707  0.939807  0.811365  0.569392\n",
       "1 -0.100389 -0.387232 -0.532232 -0.352582 -0.057264 -0.173956 -0.012195\n",
       "2  1.080232 -1.022292 -1.172277 -1.597921  1.536383  1.531301  1.074143\n",
       "3  0.600392  1.519176  1.670424  1.280809  1.120673  1.232041  0.870347\n",
       "4 -0.478962 -0.312374 -0.353140 -0.087066  0.232276  0.223557  0.459784"
      ]
     },
     "execution_count": 2,
     "metadata": {},
     "output_type": "execute_result"
    }
   ],
   "source": [
    "# loading data \n",
    "df_scaled = pd.read_csv('../data/data_scaled.csv')\n",
    "df_scaled.head()"
   ]
  },
  {
   "cell_type": "code",
   "execution_count": null,
   "metadata": {},
   "outputs": [],
   "source": [
    "#USing SOM for mapping data from 7d to 2d space\n",
    "import SimpSOM as sps\n",
    "\n",
    "#Build a network 20x20 with a weights format taken from the raw_data and activate Periodic Boundary Conditions. \n",
    "net = sps.somNet(50,50, df_scaled.values, PBC=True)\n",
    "#Train the network for 10000 epochs and with initial learning rate of 0.01. \n",
    "net.train(0.01, 10000)\n",
    "\n",
    "#Save the weights to file\n",
    "net.save('som-50-50-weights-eta0.01.dat')\n",
    "#Print a map of the network nodes and colour them according to the first feature (column number 0) of the dataset\n",
    "#and then according to the distance between each node and its neighbours."
   ]
  },
  {
   "cell_type": "code",
   "execution_count": null,
   "metadata": {},
   "outputs": [],
   "source": [
    "net.nodes_graph(colnum=0)"
   ]
  },
  {
   "cell_type": "code",
   "execution_count": null,
   "metadata": {},
   "outputs": [],
   "source": [
    "net.diff_graph()\n",
    "\n",
    "all_labels = np.loadtxt('../all_labels.dat')\n",
    "this_labels = all_labels[6]"
   ]
  },
  {
   "cell_type": "code",
   "execution_count": null,
   "metadata": {},
   "outputs": [],
   "source": [
    "#Project the datapoints on the new 2D network map.\n",
    "x = net.project(df_scaled.values, labels=this_labels)"
   ]
  },
  {
   "cell_type": "code",
   "execution_count": null,
   "metadata": {},
   "outputs": [],
   "source": [
    "y = np.array(x)\n",
    "label_noise = np.loadtxt('../label_noise.dat')\n",
    "color=[]\n",
    "alpha=[]\n",
    "cc=['red','blue']\n",
    "j=-1\n",
    "for i in range(len(this_labels)):\n",
    "    if(this_labels[i]==-1): \n",
    "        j=j+1\n",
    "        if(label_noise[j]==-1):\n",
    "            color.append('white')\n",
    "#             alpha.append(0.1)\n",
    "        else:\n",
    "            color.append('red')\n",
    "#             alpha.append('None')\n",
    "    else: \n",
    "        color.append('white')\n",
    "#         alpha.append('None')\n",
    "plt.scatter(y[:,0], y[:,1], c = color, alpha=0.01,  s=100)\n",
    "plt.savefig('SOM-dbscan.png')"
   ]
  },
  {
   "cell_type": "code",
   "execution_count": null,
   "metadata": {},
   "outputs": [],
   "source": []
  },
  {
   "cell_type": "code",
   "execution_count": null,
   "metadata": {},
   "outputs": [],
   "source": []
  }
 ],
 "metadata": {
  "kernelspec": {
   "display_name": "Python 3",
   "language": "python",
   "name": "python3"
  },
  "language_info": {
   "codemirror_mode": {
    "name": "ipython",
    "version": 3
   },
   "file_extension": ".py",
   "mimetype": "text/x-python",
   "name": "python",
   "nbconvert_exporter": "python",
   "pygments_lexer": "ipython3",
   "version": "3.8.3"
  }
 },
 "nbformat": 4,
 "nbformat_minor": 4
}
